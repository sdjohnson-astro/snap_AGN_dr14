{
 "cells": [
  {
   "cell_type": "code",
   "execution_count": 4,
   "metadata": {},
   "outputs": [
    {
     "name": "stdout",
     "output_type": "stream",
     "text": [
      "Starting app\n",
      "Reading pair table\n",
      "Create bg quasar plot region\n",
      "Create fg quasar plot region\n",
      "Create absorption plot region\n",
      "Layout\n",
      "Reading in first spectra\n"
     ]
    },
    {
     "name": "stderr",
     "output_type": "stream",
     "text": [
      "WARNING: hdu= was not specified but multiple tables are present, reading in first available table (hdu=1) [astropy.io.fits.connect]\n",
      "/Users/seanjohnson/Dropbox/research_astro/MgII/snap_AGN_dr14/code/measureQuasarHalos.py:25: RuntimeWarning: divide by zero encountered in true_divide\n",
      "  spec['error'] = 1/np.sqrt(spec['ivar'])\n",
      "/Users/seanjohnson/anaconda3/envs/astroconda3/lib/python3.5/site-packages/lmfit/model.py:821: UserWarning: The keyword argument weight does notmatch any arguments of the model function.It will be ignored.\n",
      "  \"It will be ignored.\", UserWarning)\n"
     ]
    },
    {
     "name": "stdout",
     "output_type": "stream",
     "text": [
      "Done\n",
      "For help, press ?\n"
     ]
    }
   ],
   "source": [
    "%run measureQuasarHalos.py -u sdjSN10"
   ]
  },
  {
   "cell_type": "code",
   "execution_count": null,
   "metadata": {},
   "outputs": [],
   "source": []
  }
 ],
 "metadata": {
  "kernelspec": {
   "display_name": "Python 3",
   "language": "python",
   "name": "python3"
  },
  "language_info": {
   "codemirror_mode": {
    "name": "ipython",
    "version": 3
   },
   "file_extension": ".py",
   "mimetype": "text/x-python",
   "name": "python",
   "nbconvert_exporter": "python",
   "pygments_lexer": "ipython3",
   "version": "3.5.5"
  }
 },
 "nbformat": 4,
 "nbformat_minor": 2
}
